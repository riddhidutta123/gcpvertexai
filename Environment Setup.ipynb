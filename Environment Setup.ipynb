{
 "cells": [
  {
   "cell_type": "code",
   "execution_count": 9,
   "id": "9bee2026-41d6-4d31-93ab-6c04b5f6e45b",
   "metadata": {},
   "outputs": [
    {
     "data": {
      "text/plain": [
       "'rids-first-project'"
      ]
     },
     "execution_count": 9,
     "metadata": {},
     "output_type": "execute_result"
    }
   ],
   "source": [
    "project = !gcloud config get-value project\n",
    "PROJECT_ID = project[0]\n",
    "PROJECT_ID"
   ]
  },
  {
   "cell_type": "code",
   "execution_count": 10,
   "id": "91293343-0d4e-4d8f-ba9c-d7a18ab02fa6",
   "metadata": {},
   "outputs": [],
   "source": [
    "REGION = 'us-west1'"
   ]
  },
  {
   "cell_type": "markdown",
   "id": "1a8c7399-fb6a-4e05-bf29-748ec6614e61",
   "metadata": {},
   "source": [
    "### Packages"
   ]
  },
  {
   "cell_type": "code",
   "execution_count": 26,
   "id": "b0405a32-15d2-4429-b41d-50cadf170baa",
   "metadata": {},
   "outputs": [],
   "source": [
    "from google.cloud import storage\n",
    "from google.cloud import bigquery\n",
    "\n",
    "import pandas as pd\n",
    "from sklearn import datasets\n",
    "import numpy as np\n",
    "import matplotlib as plt\n",
    "import json"
   ]
  },
  {
   "cell_type": "markdown",
   "id": "a8ed7fe8-06ca-486a-a651-fbc016240d7b",
   "metadata": {},
   "source": [
    "### Clients"
   ]
  },
  {
   "cell_type": "code",
   "execution_count": 12,
   "id": "767a7157-45d5-4bbd-bb7c-fc11be346a38",
   "metadata": {},
   "outputs": [],
   "source": [
    "gcs = storage.Client(project = PROJECT_ID)\n",
    "bq = bigquery.Client(project = PROJECT_ID)"
   ]
  },
  {
   "cell_type": "markdown",
   "id": "976e549e-a82e-40a8-8b4c-891b5405ba88",
   "metadata": {},
   "source": [
    "### Parameters"
   ]
  },
  {
   "cell_type": "code",
   "execution_count": 13,
   "id": "8a118738-5260-4acc-84b3-c689e24af07b",
   "metadata": {},
   "outputs": [],
   "source": [
    "BUCKET = PROJECT_ID"
   ]
  },
  {
   "cell_type": "markdown",
   "id": "f45d862f-beef-438c-b5c1-1973f4a1dc18",
   "metadata": {},
   "source": [
    "## Create Storage Bucket"
   ]
  },
  {
   "cell_type": "code",
   "execution_count": 14,
   "id": "f1e496d0-6df7-4ae4-90dd-aa3b98a83903",
   "metadata": {},
   "outputs": [
    {
     "name": "stdout",
     "output_type": "stream",
     "text": [
      "Bucket already exist: rids-first-project\n"
     ]
    }
   ],
   "source": [
    "# Check to see if bucket already exist and create if missing\n",
    "if not gcs.lookup_bucket(BUCKET):\n",
    "    bucketDef = gcs.bucket(BUCKET)\n",
    "    bucket = gcs.create_bucket(bucketDef, project=PROJECT_ID, location=REGION)\n",
    "    print(f'Created Bucket: {gcs.lookup_bucket(BUCKET).name}')\n",
    "else:\n",
    "    bucketDef = gcs.bucket(BUCKET)\n",
    "    print(f'Bucket already exist: {bucketDef.name}')"
   ]
  },
  {
   "cell_type": "code",
   "execution_count": 15,
   "id": "3836f16d-1b54-462f-9f16-e46c4959df8d",
   "metadata": {},
   "outputs": [
    {
     "name": "stdout",
     "output_type": "stream",
     "text": [
      "Review the storage bucket in the console here:\n",
      "https://console.cloud.google.com/storage/browser/rids-first-project;tab=objects&project=rids-first-project\n"
     ]
    }
   ],
   "source": [
    "print(f'Review the storage bucket in the console here:\\nhttps://console.cloud.google.com/storage/browser/{PROJECT_ID};tab=objects&project={PROJECT_ID}')"
   ]
  },
  {
   "cell_type": "markdown",
   "id": "332bdbde-0620-4c1c-9731-77718bed73bd",
   "metadata": {},
   "source": [
    "## Service Account & Permissions\n",
    "\n",
    "This notebook instance is running as a service account in GCP. This service account will also be used to run other services in Vertex AI like training jobs and pipelines. The service account will need permission to interact with object in Cloud Storage which requires the role (roles/storage.objectAdmin).\n",
    "\n",
    "Get the current service account:"
   ]
  },
  {
   "cell_type": "code",
   "execution_count": 16,
   "id": "45cf24a3-da26-45eb-86d0-c9de032d3536",
   "metadata": {},
   "outputs": [
    {
     "data": {
      "text/plain": [
       "'97651066104-compute@developer.gserviceaccount.com'"
      ]
     },
     "execution_count": 16,
     "metadata": {},
     "output_type": "execute_result"
    }
   ],
   "source": [
    "SERVICE_ACCOUNT = !gcloud config list --format='value(core.account)' \n",
    "SERVICE_ACCOUNT = SERVICE_ACCOUNT[0]\n",
    "SERVICE_ACCOUNT"
   ]
  },
  {
   "cell_type": "markdown",
   "id": "686e7656-643e-4c28-8491-9cd52cc851a5",
   "metadata": {},
   "source": [
    "### Enable the Cloud Resource Manager API:"
   ]
  },
  {
   "cell_type": "code",
   "execution_count": 17,
   "id": "a8a36f74-070c-4e5e-b6ec-3cae076ee8c4",
   "metadata": {},
   "outputs": [],
   "source": [
    "!gcloud services enable cloudresourcemanager.googleapis.com"
   ]
  },
  {
   "cell_type": "markdown",
   "id": "33f1c21f-a8fd-429a-9838-f88b0287cb20",
   "metadata": {},
   "source": [
    "### List the service accounts current roles:"
   ]
  },
  {
   "cell_type": "code",
   "execution_count": 18,
   "id": "ca1d0668-10e0-419e-b244-11f62beaf855",
   "metadata": {},
   "outputs": [
    {
     "name": "stdout",
     "output_type": "stream",
     "text": [
      "ROLE\n",
      "roles/bigquery.admin\n",
      "roles/owner\n",
      "roles/storage.objectAdmin\n"
     ]
    }
   ],
   "source": [
    "!gcloud projects get-iam-policy $PROJECT_ID --filter=\"bindings.members:$SERVICE_ACCOUNT\" --format='table(bindings.role)' --flatten=\"bindings[].members\""
   ]
  },
  {
   "cell_type": "markdown",
   "id": "cde170cf-6e95-4bcc-bd46-3f510de55cb5",
   "metadata": {},
   "source": [
    "#### If the resulting list is missing roles/storage.objectAdmin or another role that contains this permission, like the basic role roles/owner, then it will need to be added for the service account. Use these instructions to complete this:"
   ]
  },
  {
   "cell_type": "code",
   "execution_count": 16,
   "id": "b71f8c95-004c-4355-9946-f11ee236c475",
   "metadata": {},
   "outputs": [
    {
     "name": "stdout",
     "output_type": "stream",
     "text": [
      "Go To IAM in the Google Cloud Console:\n",
      "https://console.cloud.google.com/iam-admin/iam?orgonly=true&project=rids-first-project&supportedpurview=organizationId\n"
     ]
    }
   ],
   "source": [
    "print(f'Go To IAM in the Google Cloud Console:\\nhttps://console.cloud.google.com/iam-admin/iam?orgonly=true&project={PROJECT_ID}&supportedpurview=organizationId')"
   ]
  },
  {
   "cell_type": "markdown",
   "id": "011812bb-4520-402a-ac74-2a7c3e450bd7",
   "metadata": {},
   "source": [
    "Go To IAM in the Google Cloud Console:\n",
    "https://console.cloud.google.com/iam-admin/iam?orgonly=true&project=statmike-mlops-349915&supportedpurview=organizationId\n",
    "\n",
    "From the console link above, or by going to https:/console.cloud.google.com and navigating to \"IAM & Admin > IAM\":\n",
    "\n",
    "1. Locate the row for the service account listed above: -compute@developer.gserviceaccount.com\n",
    "2. Under the inheritance column click the pencil icon to edit roles\n",
    "3. In the fly over menu, under Assign roles select Add Another Role\n",
    "4. Click the Select a role box and type Storage Object Admin, then select Storage Object Admin\n",
    "5. Click Save\n",
    "6. Rerun the list of services below and verify the role has been added:"
   ]
  },
  {
   "cell_type": "code",
   "execution_count": 20,
   "id": "be74d613-ed30-4f1b-aa50-ec4300f034dd",
   "metadata": {},
   "outputs": [
    {
     "name": "stdout",
     "output_type": "stream",
     "text": [
      "ROLE\n",
      "roles/bigquery.admin\n",
      "roles/bigquery.jobUser\n",
      "roles/owner\n",
      "roles/storage.objectAdmin\n"
     ]
    }
   ],
   "source": [
    "!gcloud projects get-iam-policy $PROJECT_ID --filter=\"bindings.members:$SERVICE_ACCOUNT\" --format='table(bindings.role)' --flatten=\"bindings[].members\""
   ]
  },
  {
   "cell_type": "markdown",
   "id": "7ae0b992-df54-44e8-a0c9-01593fba8b18",
   "metadata": {},
   "source": [
    "# Install Kubeflow Pipelines (KFP)"
   ]
  },
  {
   "cell_type": "code",
   "execution_count": 31,
   "id": "1102c854-f4c5-4e6b-b7cb-8a3175ee4ef6",
   "metadata": {},
   "outputs": [
    {
     "name": "stdout",
     "output_type": "stream",
     "text": [
      "\u001b[33mWARNING: Error parsing requirements for jsonschema: [Errno 2] No such file or directory: '/opt/conda/lib/python3.7/site-packages/jsonschema-4.17.3.dist-info/METADATA'\u001b[0m\u001b[33m\n",
      "\u001b[0m\u001b[33m    WARNING: No metadata found in /opt/conda/lib/python3.7/site-packages\u001b[0m\u001b[33m\n",
      "\u001b[0m\u001b[31mERROR: Cannot uninstall jsonschema 4.17.3, RECORD file not found. You might be able to recover from this via: 'pip install --force-reinstall --no-deps jsonschema==4.17.3'.\u001b[0m\u001b[31m\n",
      "\u001b[0m"
     ]
    }
   ],
   "source": [
    "!pip install kfp -U -q"
   ]
  },
  {
   "cell_type": "code",
   "execution_count": 4,
   "id": "50edc35d-221a-430c-8881-d5a4edef322f",
   "metadata": {},
   "outputs": [
    {
     "name": "stdout",
     "output_type": "stream",
     "text": [
      "\u001b[33mWARNING: Error parsing requirements for jsonschema: [Errno 2] No such file or directory: '/opt/conda/lib/python3.7/site-packages/jsonschema-4.17.3.dist-info/METADATA'\u001b[0m\u001b[33m\n",
      "\u001b[0m\u001b[33m    WARNING: No metadata found in /opt/conda/lib/python3.7/site-packages\u001b[0m\u001b[33m\n",
      "\u001b[0m\u001b[31mERROR: Cannot uninstall jsonschema 4.17.3, RECORD file not found. You might be able to recover from this via: 'pip install --force-reinstall --no-deps jsonschema==4.17.3'.\u001b[0m\u001b[31m\n",
      "\u001b[0m"
     ]
    }
   ],
   "source": [
    "!pip install google-cloud-pipeline-components -U -q"
   ]
  },
  {
   "cell_type": "code",
   "execution_count": 35,
   "id": "fa98a96d-3fa9-4733-a2b0-34198bf9d0cd",
   "metadata": {},
   "outputs": [
    {
     "name": "stdout",
     "output_type": "stream",
     "text": [
      "Collecting jsonschema==4.16.0\n",
      "  Downloading jsonschema-4.16.0-py3-none-any.whl (83 kB)\n",
      "\u001b[2K     \u001b[90m━━━━━━━━━━━━━━━━━━━━━━━━━━━━━━━━━━━━━━━━\u001b[0m \u001b[32m83.1/83.1 kB\u001b[0m \u001b[31m3.6 MB/s\u001b[0m eta \u001b[36m0:00:00\u001b[0m\n",
      "\u001b[?25hInstalling collected packages: jsonschema\n",
      "  Attempting uninstall: jsonschema\n",
      "\u001b[33m    WARNING: No metadata found in /opt/conda/lib/python3.7/site-packages\u001b[0m\u001b[33m\n",
      "\u001b[0m    Found existing installation: jsonschema 4.17.3\n",
      "\u001b[31mERROR: Cannot uninstall jsonschema 4.17.3, RECORD file not found. You might be able to recover from this via: 'pip install --force-reinstall --no-deps jsonschema==4.17.3'.\u001b[0m\u001b[31m\n",
      "\u001b[0mNote: you may need to restart the kernel to use updated packages.\n"
     ]
    }
   ],
   "source": [
    "pip install --force-reinstall --no-deps jsonschema==4."
   ]
  },
  {
   "cell_type": "markdown",
   "id": "c5e76add-d35a-4bd7-99f8-3def46af7458",
   "metadata": {},
   "source": [
    "## Update AIPlatform Package:\n",
    "\n",
    "The google-cloud-aiplatform package updates frequently. Update it for latest functionality.\n",
    "\n",
    "aiplatform Python Client\n",
    "GitHub Repo for api-common-protos\n",
    "For a better understanding of the Vertex AI APIs client, version, and layers please review the tip here aiplatform_notes.md."
   ]
  },
  {
   "cell_type": "code",
   "execution_count": 7,
   "id": "4d4f624c-cfbe-4418-b9b0-d6e0d507b772",
   "metadata": {},
   "outputs": [
    {
     "name": "stdout",
     "output_type": "stream",
     "text": [
      "\u001b[33mWARNING: Error parsing requirements for jsonschema: [Errno 2] No such file or directory: '/opt/conda/lib/python3.7/site-packages/jsonschema-4.17.3.dist-info/METADATA'\u001b[0m\u001b[33m\n",
      "\u001b[0m\u001b[33mWARNING: Error parsing requirements for jsonschema: [Errno 2] No such file or directory: '/opt/conda/lib/python3.7/site-packages/jsonschema-4.17.3.dist-info/METADATA'\u001b[0m\u001b[33m\n",
      "\u001b[0m"
     ]
    }
   ],
   "source": [
    "!pip install googleapis-common-protos -U -q\n",
    "!pip install google-cloud-aiplatform -U -q"
   ]
  }
 ],
 "metadata": {
  "environment": {
   "kernel": "python3",
   "name": "tf2-gpu.2-10.m102",
   "type": "gcloud",
   "uri": "gcr.io/deeplearning-platform-release/tf2-gpu.2-10:m102"
  },
  "kernelspec": {
   "display_name": "Python 3 (ipykernel)",
   "language": "python",
   "name": "python3"
  },
  "language_info": {
   "codemirror_mode": {
    "name": "ipython",
    "version": 3
   },
   "file_extension": ".py",
   "mimetype": "text/x-python",
   "name": "python",
   "nbconvert_exporter": "python",
   "pygments_lexer": "ipython3",
   "version": "3.7.12"
  }
 },
 "nbformat": 4,
 "nbformat_minor": 5
}
